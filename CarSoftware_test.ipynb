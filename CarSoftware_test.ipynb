{
  "nbformat": 4,
  "nbformat_minor": 0,
  "metadata": {
    "colab": {
      "name": "Untitled0.ipynb",
      "provenance": [],
      "include_colab_link": true
    },
    "kernelspec": {
      "name": "python3",
      "display_name": "Python 3"
    },
    "language_info": {
      "name": "python"
    }
  },
  "cells": [
    {
      "cell_type": "markdown",
      "metadata": {
        "id": "view-in-github",
        "colab_type": "text"
      },
      "source": [
        "<a href=\"https://colab.research.google.com/github/niklasforestman/RC-AI-Jetson/blob/master/CarSoftware_test.ipynb\" target=\"_parent\"><img src=\"https://colab.research.google.com/assets/colab-badge.svg\" alt=\"Open In Colab\"/></a>"
      ]
    },
    {
      "cell_type": "markdown",
      "metadata": {
        "id": "wvGydjB7-1YC"
      },
      "source": [
        "# Selbstfahrendes RC-Fahrzeug \n",
        "In diesem Notebook wird der Code präsentiert, dem es unserem RC-Fahrzeug ermöglicht Bilder aufzunehmen, mit denen eine neuronales Netz trainiert wird, welches anschließend unser Fahrzeug steuern soll."
      ]
    },
    {
      "cell_type": "markdown",
      "metadata": {
        "id": "j6yRC5HN_Xip"
      },
      "source": [
        "## Task 1: Trainingsbilder aufnehmen\n"
      ]
    },
    {
      "cell_type": "code",
      "metadata": {
        "colab": {
          "base_uri": "https://localhost:8080/"
        },
        "id": "kn2TPqhWnhUu",
        "outputId": "7a43ba06-6e33-4ea1-9dc2-bf9d67dd1dde"
      },
      "source": [
        "print (\"Hello World\")"
      ],
      "execution_count": null,
      "outputs": [
        {
          "output_type": "stream",
          "text": [
            "Hello World\n"
          ],
          "name": "stdout"
        }
      ]
    },
    {
      "cell_type": "code",
      "metadata": {
        "id": "xKxi93Oqnkpq",
        "colab": {
          "base_uri": "https://localhost:8080/"
        },
        "outputId": "cceb8011-3c56-4ecf-cc56-3b161464a911"
      },
      "source": [
        "print (\"Zerstörung der Welt\")"
      ],
      "execution_count": null,
      "outputs": [
        {
          "output_type": "stream",
          "text": [
            "Zerstörung der Welt\n"
          ],
          "name": "stdout"
        }
      ]
    },
    {
      "cell_type": "code",
      "metadata": {
        "id": "cC86EgmwoUwR"
      },
      "source": [
        ""
      ],
      "execution_count": null,
      "outputs": []
    }
  ]
}
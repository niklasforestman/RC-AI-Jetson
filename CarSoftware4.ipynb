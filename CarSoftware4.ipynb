{
  "nbformat": 4,
  "nbformat_minor": 0,
  "metadata": {
    "colab": {
      "name": "Untitled0.ipynb",
      "provenance": [],
      "include_colab_link": true
    },
    "kernelspec": {
      "name": "python3",
      "display_name": "Python 3"
    },
    "language_info": {
      "name": "python"
    },
    "accelerator": "GPU"
  },
  "cells": [
    {
      "cell_type": "markdown",
      "metadata": {
        "id": "view-in-github",
        "colab_type": "text"
      },
      "source": [
        "<a href=\"https://colab.research.google.com/github/niklasforestman/RC-AI-Jetson/blob/controller/CarSoftware4.ipynb\" target=\"_parent\"><img src=\"https://colab.research.google.com/assets/colab-badge.svg\" alt=\"Open In Colab\"/></a>"
      ]
    },
    {
      "cell_type": "markdown",
      "metadata": {
        "id": "wvGydjB7-1YC"
      },
      "source": [
        "# Selbstfahrendes RC-Fahrzeug \n",
        "In diesem Notebook wird der Code präsentiert, dem es unserem RC-Fahrzeug ermöglicht Bilder aufzunehmen, mit denen eine neuronales Netz trainiert wird, welches anschließend unser Fahrzeug steuern soll."
      ]
    },
    {
      "cell_type": "code",
      "metadata": {
        "id": "FElK9MhbFgsD"
      },
      "source": [
        "import os\n",
        "import numpy as np\n",
        "import matplotlib.pyplot as plt\n",
        "import matplotlib.image as mpimg\n",
        "\n",
        "import keras\n",
        "from keras.models import Sequential\n",
        "from keras.optimizers import Adam\n",
        "from keras.layers import Conv2D, Convolution2D, MaxPooling2D, Dropout, Flatten, Dense\n",
        "from sklearn.utils import shuffle\n",
        "from sklearn.model_selection import train_test_split\n",
        "from imgaug import augmenters as iaa\n",
        "import cv2\n",
        "import pandas as pd\n",
        "import ntpath\n",
        "import random\n"
      ],
      "execution_count": null,
      "outputs": []
    },
    {
      "cell_type": "markdown",
      "metadata": {
        "id": "j6yRC5HN_Xip"
      },
      "source": [
        "### Task 1: Trainingsbilder mit Lenkwinkel aufnehmen\n"
      ]
    },
    {
      "cell_type": "code",
      "metadata": {
        "colab": {
          "base_uri": "https://localhost:8080/"
        },
        "id": "kn2TPqhWnhUu",
        "outputId": "7a43ba06-6e33-4ea1-9dc2-bf9d67dd1dde"
      },
      "source": [
        "import cv2\n",
        "import os\n",
        "\n",
        "# gstreamer_pipeline returns a GStreamer pipeline for capturing from the CSI camera\n",
        "# Defaults to 1280x720 @ 60fps\n",
        "# Flip the image by setting the flip_method (most common values: 0 and 2)\n",
        "# display_width and display_height determine the size of the window on the screen\n",
        "\n",
        "\n",
        "def gstreamer_pipeline(\n",
        "  capture_width=1280,\n",
        "  capture_height=720,\n",
        "  display_width=1280,\n",
        "  display_height=720,\n",
        "  framerate=60,\n",
        "  flip_method=0,\n",
        "):\n",
        "  return (\n",
        "    \"nvarguscamerasrc ! \"\n",
        "    \"video/x-raw(memory:NVMM), \"\n",
        "    \"width=(int)%d, height=(int)%d, \"\n",
        "    \"format=(string)NV12, framerate=(fraction)%d/1 ! \"\n",
        "    \"nvvidconv flip-method=%d ! \"\n",
        "    \"video/x-raw, width=(int)%d, height=(int)%d, format=(string)BGRx ! \"\n",
        "    \"videoconvert ! \"\n",
        "    \"video/x-raw, format=(string)BGR ! appsink\"\n",
        "    % (\n",
        "      capture_width,\n",
        "      capture_height,\n",
        "      framerate,\n",
        "      flip_method,\n",
        "      display_width,\n",
        "      display_height,\n",
        "      )\n",
        "    )\n",
        "\n",
        "\n",
        "def save_images(path):\n",
        "    # To flip the image, modify the flip_method parameter (0 and 2 are the most common)\n",
        "  print(gstreamer_pipeline(flip_method=0))\n",
        "  i=1 #Laufvariable für die Dateibenennung\n",
        "  cap = cv2.VideoCapture(gstreamer_pipeline(flip_method=0), cv2.CAP_GSTREAMER)\n",
        "  if cap.isOpened():\n",
        "    window_handle = cv2.namedWindow(\"CSI Camera\", cv2.WINDOW_AUTOSIZE)\n",
        "    # Window\n",
        "\n",
        "    while cv2.getWindowProperty(\"CSI Camera\", 0) >= 0:\n",
        "      return_key, frame = cap.read()\n",
        "      cv2.imshow(\"CSI Camera\", frame)\n",
        "\t    cv2.imwrite(os.path.join(path ,str(i), '.jpg'),frame)\n",
        "\t    k = cv2.waitKey(1)\n",
        "\t    if k%256 == 27:\n",
        "\t    # ESC pressed\n",
        "\t      print(\"Escape hit, closing...\")\n",
        "\t      break\n",
        "      i=i+1 #Die Laufvariable wird für die Dateibenennung verwendet\n",
        "\t    print(f\"Das {i}-te Bild wurde gerade gespeichert\")\n",
        "\n",
        "      cap.release()\n",
        "      cv2.destroyAllWindows()\n",
        "    else:\n",
        "      print(\"Unable to open camera\")\n",
        "\n",
        "\n",
        "path = '/home/DATA'\n",
        "  \n",
        "show_camera(path)"
      ],
      "execution_count": null,
      "outputs": [
        {
          "output_type": "stream",
          "text": [
            "Hello World\n"
          ],
          "name": "stdout"
        }
      ]
    },
    {
      "cell_type": "markdown",
      "metadata": {
        "id": "QyfXHyvNAr_h"
      },
      "source": [
        "### Task 2: Trainingsbilder augmentieren"
      ]
    },
    {
      "cell_type": "code",
      "metadata": {
        "id": "qdf3WNfGE1I0"
      },
      "source": [
        "# Ein Bild wird gezoomt\n",
        "def zoom(image):\n",
        "  zoom = iaa.Affine(scale=(1, 1.3)) #Zoom mit scale, Affine sorgt dafür, dass Linien im Bild erhalten bleiben\n",
        "  image = zoom.augment_image(image) #Apply die Zoom-Parameter auf das Bild\n",
        "  return image "
      ],
      "execution_count": null,
      "outputs": []
    },
    {
      "cell_type": "code",
      "metadata": {
        "id": "yNyV_Q_nEsrU"
      },
      "source": [
        "# Verschieben des Bildes\n",
        "def pan(image): \n",
        "  pan = iaa.Affine(translate_percent= {\"x\" : (-0.1, 0.1), \"y\": (-0.1, 0.1)})\n",
        "  image = pan.augment_image(image)\n",
        "  return image"
      ],
      "execution_count": null,
      "outputs": []
    },
    {
      "cell_type": "code",
      "metadata": {
        "id": "nVIEi7fTOFLR"
      },
      "source": [
        "# Rotieren des Bildes\n",
        "def rotate(image): \n",
        "  rotate = iaa.Affine(translate_percent= {\"x\" : (-0.1, 0.1), \"y\": (-0.1, 0.1)})\n",
        "  #image = pan.augment_image(image)\n",
        "  return image"
      ],
      "execution_count": null,
      "outputs": []
    },
    {
      "cell_type": "code",
      "metadata": {
        "id": "Eofu0_CsEqH8"
      },
      "source": [
        "# Helligkeit eines Bildes verändern\n",
        "def img_random_brightness(image):\n",
        "    brightness = iaa.Multiply((0.2, 1.2))\n",
        "    image = brightness.augment_image(image)\n",
        "    return image"
      ],
      "execution_count": null,
      "outputs": []
    },
    {
      "cell_type": "code",
      "metadata": {
        "id": "vkxTaQ96JSZR"
      },
      "source": [
        "# Farben eines Bildes verändern\n",
        "def img_random_color(image):\n",
        "    #brightness = iaa.Multiply((0.2, 1.2))\n",
        "    #image = brightness.augment_image(image)\n",
        "    return image"
      ],
      "execution_count": null,
      "outputs": []
    },
    {
      "cell_type": "code",
      "metadata": {
        "id": "5k2aQwwCEnZo"
      },
      "source": [
        "# Ein Bild wird gespiegelt\n",
        "def img_random_flip(image, steering_angle):\n",
        "    image = cv2.flip(image,1)\n",
        "    steering_angle = -steering_angle\n",
        "    return image, steering_angle"
      ],
      "execution_count": null,
      "outputs": []
    },
    {
      "cell_type": "markdown",
      "metadata": {
        "id": "tbFzdIfaEZ1Z"
      },
      "source": [
        "Die Funktion random_augment() führt auf ein übergebenes Bild die möglichen Augmentations aus\n",
        "\n",
        "TODO: implementieren von rotieren, Farben verändern"
      ]
    },
    {
      "cell_type": "code",
      "metadata": {
        "id": "JTKK5WgJEYmF"
      },
      "source": [
        "def random_augment(image, steering_angle):\n",
        "    image = mpimg.imread(image)\n",
        "    if np.random.rand() < 0.5:\n",
        "      image = pan(image)\n",
        "    if np.random.rand() < 0.5:\n",
        "      image = zoom(image)\n",
        "    if np.random.rand() < 0.5:\n",
        "      image = img_random_brightness(image)\n",
        "    if np.random.rand() < 0.5:\n",
        "      image, steering_angle = img_random_flip(image, steering_angle)\n",
        "    \n",
        "    return image, steering_angle"
      ],
      "execution_count": null,
      "outputs": []
    },
    {
      "cell_type": "markdown",
      "metadata": {
        "id": "hEes4f_LDhFB"
      },
      "source": [
        "Die Funktion img_preprocess() nimmt ein Bild und verarbeitet es für das Modell"
      ]
    },
    {
      "cell_type": "code",
      "metadata": {
        "id": "QzX0JsHFDgYw"
      },
      "source": [
        "def img_preprocess(img):\n",
        "    #img = img[60:135,:,:] #Das Bild kann zugeschnitten werden auf einen bestimmten Bereich\n",
        "    img = cv2.cvtColor(img, cv2.COLOR_RGB2YUV) #colormap für NVIDIA-Model\n",
        "    #img = cv2.GaussianBlur(img,  (3, 3), 0) #Blur um Bild zu smoothen\n",
        "    img = cv2.resize(img, (200, 66)) #Auf richtige Größe für Model bringen\n",
        "    img = img/255 #Bild normalisieren\n",
        "    return img\n"
      ],
      "execution_count": null,
      "outputs": []
    },
    {
      "cell_type": "markdown",
      "metadata": {
        "id": "PY4Q7ByjA-vJ"
      },
      "source": [
        "### Task 3: Neuronales Netz aufbauen"
      ]
    },
    {
      "cell_type": "markdown",
      "metadata": {
        "id": "VCPkWdOgCuTw"
      },
      "source": [
        "Die Funktion batch_generator() generiert für das Training des Modells einen Batch an Bildern und zugehörigem Lenkwinkel (muss noch um Gas/Bremse erweitert werden)"
      ]
    },
    {
      "cell_type": "code",
      "metadata": {
        "id": "rtTDaGt-CmRD"
      },
      "source": [
        "def batch_generator(image_paths, steering_ang, batch_size, istraining):\n",
        "  \n",
        "  while True:\n",
        "    batch_img = []\n",
        "    batch_steering = []\n",
        "    \n",
        "    for i in range(batch_size):\n",
        "      random_index = random.randint(0, len(image_paths) - 1)\n",
        "      \n",
        "      if istraining: #falls die Funktion im Modelltraining aufgerufen werden soll, dann sollen die Bilder augmentiert werden\n",
        "        im, steering = random_augment(image_paths[random_index], steering_ang[random_index])\n",
        "     \n",
        "      else:\n",
        "        im = mpimg.imread(image_paths[random_index])\n",
        "        steering = steering_ang[random_index]\n",
        "      \n",
        "      im = img_preprocess(im) \n",
        "      batch_img.append(im)\n",
        "      batch_steering.append(steering)\n",
        "    yield (np.asarray(batch_img), np.asarray(batch_steering))"
      ],
      "execution_count": null,
      "outputs": []
    },
    {
      "cell_type": "markdown",
      "metadata": {
        "id": "uuniq2ByCntZ"
      },
      "source": [
        "Hier wird das Convolutional Neural Network definiert"
      ]
    },
    {
      "cell_type": "code",
      "metadata": {
        "id": "cC86EgmwoUwR"
      },
      "source": [
        "def nvidia_model():\n",
        "  model = Sequential()\n",
        "  model.add(Conv2D(24, kernel_size=(5,5), strides=(2,2), input_shape=(66,200,3),activation='relu'))\n",
        "  \n",
        "  model.add(Conv2D(36, kernel_size=(5,5), strides=(2,2), activation='relu'))\n",
        "  model.add(Conv2D(48, kernel_size=(5,5), strides=(2,2), activation='relu'))\n",
        "  model.add(Conv2D(64, kernel_size=(3,3), activation='relu'))\n",
        "  model.add(Conv2D(64, kernel_size=(3,3), activation='relu'))\n",
        "  model.add(Dropout(0.5))\n",
        "  \n",
        "  \n",
        "  model.add(Flatten()) # Mit Flatten wird aus den feature maps eine aneinanderreihung von Knoten erstellt, die im nächsten fully-connected layer verarbeitet werden\n",
        "  \n",
        "  model.add(Dense(100, activation = 'elu')) #elu ist kein Schreibfehler\n",
        "#   model.add(Dropout(0.5))\n",
        "  \n",
        "  model.add(Dense(50, activation = 'elu')) #elu verhindert ein dead-relu\n",
        "#   model.add(Dropout(0.5))\n",
        "  \n",
        "  model.add(Dense(10, activation = 'elu'))\n",
        "#   model.add(Dropout(0.5))\n",
        " \n",
        "  model.add(Dense(2)) # Der letzte Layer hat zwei Knoten, einmal für steering_angle und einmal für Gas/Bremse\n",
        "  \n",
        "  optimizer = Adam(lr=1e-3)\n",
        "  model.compile(loss='mse', optimizer=optimizer) #Mean Squared Error\n",
        "  return model\n",
        "\n",
        "model = nvidia_model()\n",
        "print(model.summary())\n",
        "# Hier könnte man ein earyl-stopping integrieren, dass das Training abgebrochen wird, wenn die Validation_loss wieder steigt\n",
        "history = model.fit_generator(batch_generator(X_train, y_train, 100, 1),\n",
        "                                  steps_per_epoch=300, \n",
        "                                  epochs=10,\n",
        "                                  validation_data=batch_generator(X_valid, y_valid, 100, 0),\n",
        "                                  validation_steps=200,\n",
        "                                  verbose=1,\n",
        "                                  shuffle = 1)\n",
        "\n",
        "plt.plot(history.history['loss'])\n",
        "plt.plot(history.history['val_loss'])\n",
        "plt.legend(['training', 'validation'])\n",
        "plt.title('Loss')\n",
        "plt.xlabel('Epoch')\n",
        "\n",
        "model.save('model.h5') #Hier kann das Modell gespeichert werden, um es später zu verwenden"
      ],
      "execution_count": null,
      "outputs": []
    },
    {
      "cell_type": "markdown",
      "metadata": {
        "id": "FarxQk5dOi3Q"
      },
      "source": [
        "### Modell runterladen\n",
        "\n",
        "Das Modell kann runtergeladen werden, um es als abgespeichertes Modell zu haben und später im Jetson anzuwenden."
      ]
    },
    {
      "cell_type": "code",
      "metadata": {
        "id": "kt9YyQ3_Ohow"
      },
      "source": [
        "from google.colab import files\n",
        "files.download('model.h5')"
      ],
      "execution_count": null,
      "outputs": []
    },
    {
      "cell_type": "markdown",
      "metadata": {
        "id": "cFSVzoE_BFPy"
      },
      "source": [
        "### Task 4: Anwendung des neuronalen Netzes im Fahrzeug"
      ]
    },
    {
      "cell_type": "code",
      "metadata": {
        "id": "NDLkUNHOPAZy"
      },
      "source": [
        "im = camera.show(jetson)\n",
        "im = img_preprocess(im) # Das aufgenommene Bild muss erst mal preprocessed werden\n",
        "steering_value, power_value = model.predict(im)\n",
        "\n",
        "give_jetson_stuff(steering_value, power_value)"
      ],
      "execution_count": null,
      "outputs": []
    }
  ]
}